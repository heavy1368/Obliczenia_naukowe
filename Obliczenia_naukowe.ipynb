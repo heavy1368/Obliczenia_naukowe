{
  "nbformat": 4,
  "nbformat_minor": 0,
  "metadata": {
    "colab": {
      "name": "Obliczenia_naukowe.ipynb",
      "provenance": [],
      "authorship_tag": "ABX9TyNBqpOrbKlD67WiISbbUJ0r",
      "include_colab_link": true
    },
    "kernelspec": {
      "name": "python3",
      "display_name": "Python 3"
    },
    "language_info": {
      "name": "python"
    }
  },
  "cells": [
    {
      "cell_type": "markdown",
      "metadata": {
        "id": "view-in-github",
        "colab_type": "text"
      },
      "source": [
        "<a href=\"https://colab.research.google.com/github/heavy1368/Obliczenia_naukowe/blob/main/Obliczenia_naukowe.ipynb\" target=\"_parent\"><img src=\"https://colab.research.google.com/assets/colab-badge.svg\" alt=\"Open In Colab\"/></a>"
      ]
    },
    {
      "cell_type": "code",
      "execution_count": null,
      "metadata": {
        "colab": {
          "base_uri": "https://localhost:8080/"
        },
        "id": "NVkc0UR7kJon",
        "outputId": "051d2067-a37c-42fd-fd56-44e4eb345f07"
      },
      "outputs": [
        {
          "output_type": "stream",
          "name": "stdout",
          "text": [
            "czesc\n"
          ]
        }
      ],
      "source": [
        "print(\"czesc\")"
      ]
    },
    {
      "cell_type": "code",
      "source": [
        "# nag"
      ],
      "metadata": {
        "id": "sOrAlogCkzOn"
      },
      "execution_count": null,
      "outputs": []
    },
    {
      "cell_type": "markdown",
      "source": [
        "# Nagłowek\n",
        "## drugi\n",
        "### trzeci\n",
        "\n",
        "\n",
        "**bolt**\n",
        "*pochylony*\n",
        "* wyroznianie tektu\n",
        "składnia | efekt\n",
        "\n",
        "--- | ---\n",
        "linia pionowa | tak działa\n",
        "* listy\n",
        "1. pierwszy\n",
        "1. drugi\n",
        "1. trzeci\n",
        "\n",
        "$lim\\(n\\\n"
      ],
      "metadata": {
        "id": "LFLUW33Uk4XU"
      }
    },
    {
      "cell_type": "code",
      "source": [
        "import math"
      ],
      "metadata": {
        "id": "4hkRNPvOkzcE"
      },
      "execution_count": null,
      "outputs": []
    },
    {
      "cell_type": "code",
      "source": [
        "math.sin(30)"
      ],
      "metadata": {
        "colab": {
          "base_uri": "https://localhost:8080/"
        },
        "id": "n_ay3O8vkzf7",
        "outputId": "19843f81-568e-4f2b-e302-d2f59d4ea3b9"
      },
      "execution_count": null,
      "outputs": [
        {
          "output_type": "execute_result",
          "data": {
            "text/plain": [
              "-0.9880316240928618"
            ]
          },
          "metadata": {},
          "execution_count": 5
        }
      ]
    },
    {
      "cell_type": "code",
      "source": [
        "math.log(4,2)"
      ],
      "metadata": {
        "colab": {
          "base_uri": "https://localhost:8080/"
        },
        "id": "6G8BhGf5nE_-",
        "outputId": "e9aee1db-8fce-432d-f456-f6d68f4d8259"
      },
      "execution_count": null,
      "outputs": [
        {
          "output_type": "execute_result",
          "data": {
            "text/plain": [
              "2.0"
            ]
          },
          "metadata": {},
          "execution_count": 7
        }
      ]
    },
    {
      "cell_type": "code",
      "source": [
        ""
      ],
      "metadata": {
        "id": "zCearbPTnNhk"
      },
      "execution_count": null,
      "outputs": []
    }
  ]
}